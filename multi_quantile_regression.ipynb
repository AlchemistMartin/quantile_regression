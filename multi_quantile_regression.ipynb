{
 "cells": [
  {
   "cell_type": "code",
   "execution_count": 1,
   "metadata": {
    "collapsed": false
   },
   "outputs": [
    {
     "name": "stderr",
     "output_type": "stream",
     "text": [
      "Using TensorFlow backend.\n"
     ]
    }
   ],
   "source": [
    "import pandas as pd\n",
    "import numpy as np\n",
    "import matplotlib.pyplot as plt\n",
    "from keras.models import Model\n",
    "from keras.layers import Dense, Input\n",
    "from keras.initializers import glorot_uniform\n",
    "import keras.backend as K\n",
    "\n",
    "%matplotlib inline\n",
    "\n",
    "mcycle = pd.read_csv('mcycle',delimiter='\\t')"
   ]
  },
  {
   "cell_type": "code",
   "execution_count": 2,
   "metadata": {
    "collapsed": true
   },
   "outputs": [],
   "source": [
    "mcycle.times = (mcycle.times - mcycle.times.mean())/mcycle.times.std()\n",
    "mcycle.accel = (mcycle.accel - mcycle.accel.mean())/mcycle.accel.std()"
   ]
  },
  {
   "cell_type": "code",
   "execution_count": 3,
   "metadata": {
    "collapsed": true
   },
   "outputs": [],
   "source": [
    "def tilted_loss(q,y,f):\n",
    "    e = (y-f)\n",
    "    return K.mean(K.maximum(q*e, (q-1)*e), axis=-1)"
   ]
  },
  {
   "cell_type": "code",
   "execution_count": 4,
   "metadata": {
    "collapsed": true
   },
   "outputs": [],
   "source": [
    "def mcycleModel(qs=[0.1, 0.5, 0.9]):\n",
    "    ipt_layer = Input((1,))\n",
    "    layer1 = Dense(10, activation='relu', kernel_initializer=glorot_uniform())(ipt_layer)\n",
    "    layer2 = Dense(10, activation='relu', kernel_initializer=glorot_uniform())(layer1)\n",
    "    \n",
    "    out1 = Dense(1, name='out1')(layer2)\n",
    "    out2 = Dense(1, name='out2')(layer2)\n",
    "    out3 = Dense(1, name='out3')(layer2)\n",
    "    \n",
    "    q1, q2, q3 = qs\n",
    "    model = Model(inputs=ipt_layer, outputs=[out1, out2, out3])\n",
    "    model.compile(loss={'out1': lambda y,f: tilted_loss(q1,y,f),\n",
    "                        'out2': lambda y,f: tilted_loss(q2,y,f),\n",
    "                        'out3': lambda y,f: tilted_loss(q3,y,f),}, \n",
    "                  loss_weights={'out1': 1, 'out2': 1, 'out3': 1},\n",
    "                 optimizer='adadelta')\n",
    "    \n",
    "    return model"
   ]
  },
  {
   "cell_type": "code",
   "execution_count": 5,
   "metadata": {
    "collapsed": false
   },
   "outputs": [
    {
     "data": {
      "text/plain": [
       "<keras.callbacks.History at 0x1a18e49d90>"
      ]
     },
     "execution_count": 5,
     "metadata": {},
     "output_type": "execute_result"
    }
   ],
   "source": [
    "model = mcycleModel()\n",
    "x = mcycle.times.values\n",
    "y = mcycle.accel.values\n",
    "model.fit(x=x, y=[y, y, y], epochs=2000, batch_size=32, verbose=0)"
   ]
  },
  {
   "cell_type": "code",
   "execution_count": 6,
   "metadata": {
    "collapsed": false
   },
   "outputs": [
    {
     "data": {
      "image/png": "[encoded data removed]",
      "text/plain": [
       "<matplotlib.figure.Figure at 0x1a19a005d0>"
      ]
     },
     "metadata": {},
     "output_type": "display_data"
    }
   ],
   "source": [
    "t_test = np.linspace(mcycle.times.min(),mcycle.times.max(),200)\n",
    "y_test = model.predict(t_test)\n",
    "plt.scatter(mcycle.times,mcycle.accel)\n",
    "plt.plot(t_test, y_test[0], label='0.1')\n",
    "plt.plot(t_test, y_test[1], label='0.5')\n",
    "plt.plot(t_test, y_test[2], label='0.9')\n",
    "plt.legend()\n",
    "plt.show()"
   ]
  },
  {
   "cell_type": "code",
   "execution_count": null,
   "metadata": {
    "collapsed": true
   },
   "outputs": [],
   "source": []
  }
 ],
 "metadata": {
  "kernelspec": {
   "display_name": "Python 2",
   "language": "python",
   "name": "python2"
  },
  "language_info": {
   "codemirror_mode": {
    "name": "ipython",
    "version": 2
   },
   "file_extension": ".py",
   "mimetype": "text/x-python",
   "name": "python",
   "nbconvert_exporter": "python",
   "pygments_lexer": "ipython2",
   "version": "2.7.13"
  }
 },
 "nbformat": 4,
 "nbformat_minor": 0
}
